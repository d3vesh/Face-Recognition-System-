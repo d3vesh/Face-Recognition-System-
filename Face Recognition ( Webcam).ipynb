{
 "cells": [
  {
   "cell_type": "code",
   "execution_count": null,
   "metadata": {},
   "outputs": [],
   "source": [
    "import numpy as npy\n",
    "import cv2,time\n",
    "video=cv2.VideoCapture(0)\n",
    "#check,frame=video.read()\n",
    "##print(check)\n",
    "#print(frame)\n",
    "#time.sleep(3)\n",
    "face_cascade=cv2.CascadeClassifier(r\"C:\\Users\\Deepthi Poojary\\haarcascade_frontalface_default.xml\")\n",
    "a=0\n",
    "while True:\n",
    "\n",
    "    a=a+1\n",
    "    check,frame=video.read()\n",
    "    print(frame)\n",
    "    gray = cv2.cvtColor(frame, cv2.COLOR_BGR2GRAY)\n",
    "    faces = face_cascade.detectMultiScale(gray, scaleFactor=1.05, minNeighbors=5)\n",
    "\n",
    "    cv2.imshow('capturing',gray)\n",
    "\n",
    "                    \n",
    "\n",
    "    #(x,y,w,h)=cv2.boundingRect(contour)\n",
    "    for x, y, w, h in faces:\n",
    "         frame=cv2.rectangle(frame, (x, y), (x + w, y + h), (0,255, 0), 3)\n",
    "    cv2.imshow('capturing', frame)\n",
    "    key=cv2.waitKey(1)\n",
    "    if key==ord('q'):\n",
    "        break\n",
    "print(a)\n",
    "video.release()\n",
    "cv2.destroyAllWindows()\n",
    "\n"
   ]
  }
 ],
 "metadata": {
  "kernelspec": {
   "display_name": "Python 3",
   "language": "python",
   "name": "python3"
  },
  "language_info": {
   "codemirror_mode": {
    "name": "ipython",
    "version": 3
   },
   "file_extension": ".py",
   "mimetype": "text/x-python",
   "name": "python",
   "nbconvert_exporter": "python",
   "pygments_lexer": "ipython3",
   "version": "3.6.5"
  }
 },
 "nbformat": 4,
 "nbformat_minor": 2
}
